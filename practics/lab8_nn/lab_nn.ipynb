{
 "cells": [
  {
   "cell_type": "markdown",
   "metadata": {},
   "source": [
    "# Нейронные сети"
   ]
  },
  {
   "cell_type": "markdown",
   "metadata": {},
   "source": [
    "## Задача\n",
    "Реализовать классификационную или регрессионную модель нейронной сеть, используя только средства numpy (и matplotlib для визуализации):\n",
    "1. Модель нейронной сети должна состоять из двух скрытых (внутренних) слоев ($k_1$ и $k_2$ - число нейронов скрытых слоев соответсвенно). \n",
    "2. Число нейронов в скрытых слоях выберите самостоятельно. Желательно реализовать выбор количества нейронов в скрытых слоях.\n",
    "3. Активационные функции в скрытых слоях выберите самостоятельно ('linear', 'sigmoid', 'tanh', 'relu'). \n",
    "4. Самостоятельно выбрать датасет для построения модели. Можно воспользоваться следующими данными:\n",
    "    - breast cancer wisconsin dataset (classification) sklearn.datasets.load_breast_cancer\n",
    "    - boston house-prices dataset (regression) sklearn.datasets.load_boston\n",
    "    - diabetes dataset (regression) sklearn.datasets.load_diabetes\n",
    "    - digits dataset (classification) sklearn.datasets.load_digits\n",
    "    Отвести 70% данных под тренировочную выборку, 20% под валидационную, 10% под тестовую.\n",
    "5. Реализовать прямой (forward) и обратный (backward) проходы по нейронной сети.\n",
    "6. Выбрать и реализовать оценки качества реализуемой модели (для классификации: accuracy, precision, recall, Fscore; для регрессии: mean absolute error (MAE))\n",
    "7. Обучить нейронную сеть на тренировочном наборе данных, на каждой эпохе обучения валидировать данные. Другими словами, необходимо выводить для каждой эпохи значения функции потерь и метрик точности для тренировочного и валидационного набора данных. Метрики необходимо строить на одном графике для оценки качества построенной модели.\n",
    "8. После тренировки модели необходимо протестировать модель на оставшемся наборе данных и сравнить все метрики для каждого набора данных.\n",
    "9. Сделать выводы\n",
    "\n",
    "Подсказки:\n",
    "- Обязательно сделайте нормализацию данных.\n",
    "- Веса внутренних слоев сгенерируйте случайным образов в диапазоне от $[-1, 1]$.\n"
   ]
  },
  {
   "cell_type": "code",
   "execution_count": 7,
   "metadata": {},
   "outputs": [
    {
     "name": "stdout",
     "output_type": "stream",
     "text": [
      ".. _boston_dataset:\n",
      "\n",
      "Boston house prices dataset\n",
      "---------------------------\n",
      "\n",
      "**Data Set Characteristics:**  \n",
      "\n",
      "    :Number of Instances: 506 \n",
      "\n",
      "    :Number of Attributes: 13 numeric/categorical predictive. Median Value (attribute 14) is usually the target.\n",
      "\n",
      "    :Attribute Information (in order):\n",
      "        - CRIM     per capita crime rate by town\n",
      "        - ZN       proportion of residential land zoned for lots over 25,000 sq.ft.\n",
      "        - INDUS    proportion of non-retail business acres per town\n",
      "        - CHAS     Charles River dummy variable (= 1 if tract bounds river; 0 otherwise)\n",
      "        - NOX      nitric oxides concentration (parts per 10 million)\n",
      "        - RM       average number of rooms per dwelling\n",
      "        - AGE      proportion of owner-occupied units built prior to 1940\n",
      "        - DIS      weighted distances to five Boston employment centres\n",
      "        - RAD      index of accessibility to radial highways\n",
      "        - TAX      full-value property-tax rate per $10,000\n",
      "        - PTRATIO  pupil-teacher ratio by town\n",
      "        - B        1000(Bk - 0.63)^2 where Bk is the proportion of blacks by town\n",
      "        - LSTAT    % lower status of the population\n",
      "        - MEDV     Median value of owner-occupied homes in $1000's\n",
      "\n",
      "    :Missing Attribute Values: None\n",
      "\n",
      "    :Creator: Harrison, D. and Rubinfeld, D.L.\n",
      "\n",
      "This is a copy of UCI ML housing dataset.\n",
      "https://archive.ics.uci.edu/ml/machine-learning-databases/housing/\n",
      "\n",
      "\n",
      "This dataset was taken from the StatLib library which is maintained at Carnegie Mellon University.\n",
      "\n",
      "The Boston house-price data of Harrison, D. and Rubinfeld, D.L. 'Hedonic\n",
      "prices and the demand for clean air', J. Environ. Economics & Management,\n",
      "vol.5, 81-102, 1978.   Used in Belsley, Kuh & Welsch, 'Regression diagnostics\n",
      "...', Wiley, 1980.   N.B. Various transformations are used in the table on\n",
      "pages 244-261 of the latter.\n",
      "\n",
      "The Boston house-price data has been used in many machine learning papers that address regression\n",
      "problems.   \n",
      "     \n",
      ".. topic:: References\n",
      "\n",
      "   - Belsley, Kuh & Welsch, 'Regression diagnostics: Identifying Influential Data and Sources of Collinearity', Wiley, 1980. 244-261.\n",
      "   - Quinlan,R. (1993). Combining Instance-Based and Model-Based Learning. In Proceedings on the Tenth International Conference of Machine Learning, 236-243, University of Massachusetts, Amherst. Morgan Kaufmann.\n",
      "\n"
     ]
    }
   ],
   "source": [
    "from sklearn.datasets import load_boston\n",
    "data = load_boston()\n",
    "print(data.DESCR)"
   ]
  }
 ],
 "metadata": {
  "kernelspec": {
   "display_name": "Python 3",
   "language": "python",
   "name": "python3"
  },
  "language_info": {
   "codemirror_mode": {
    "name": "ipython",
    "version": 3
   },
   "file_extension": ".py",
   "mimetype": "text/x-python",
   "name": "python",
   "nbconvert_exporter": "python",
   "pygments_lexer": "ipython3",
   "version": "3.6.8"
  }
 },
 "nbformat": 4,
 "nbformat_minor": 4
}
